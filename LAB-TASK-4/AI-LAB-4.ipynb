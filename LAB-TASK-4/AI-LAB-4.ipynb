{
 "cells": [
  {
   "cell_type": "markdown",
   "id": "22f616f2",
   "metadata": {},
   "source": [
    "Task-1:"
   ]
  },
  {
   "cell_type": "code",
   "execution_count": 4,
   "id": "9c48877d",
   "metadata": {},
   "outputs": [
    {
     "name": "stdout",
     "output_type": "stream",
     "text": [
      "4532015112830366 is VALID according to Luhn Algorithm.\n"
     ]
    }
   ],
   "source": [
    "def luhn_check(card_number):\n",
    "    digits = [int(d) for d in str(card_number)]\n",
    "    total = 0\n",
    "\n",
    "    for i in range(len(digits)-1, -1, -1):\n",
    "        d = digits[i]\n",
    "        if (len(digits) - i) % 2 == 0:  \n",
    "            d = d * 2\n",
    "            if d > 9:\n",
    "                d -= 9\n",
    "        total += d\n",
    "    \n",
    "    return total % 10 == 0\n",
    "\n",
    "\n",
    "card = \"4532015112830366\"   \n",
    "if luhn_check(card):\n",
    "    print(f\"{card} is VALID according to Luhn Algorithm.\")\n",
    "else:\n",
    "    print(f\"{card} is INVALID according to Luhn Algorithm.\")\n"
   ]
  },
  {
   "cell_type": "markdown",
   "id": "305f8c15",
   "metadata": {},
   "source": [
    "Task-2:"
   ]
  },
  {
   "cell_type": "code",
   "execution_count": 5,
   "id": "fdc0385f",
   "metadata": {},
   "outputs": [
    {
     "name": "stdout",
     "output_type": "stream",
     "text": [
      "String without punctuations: Abdullah\n"
     ]
    }
   ],
   "source": [
    "def remove_punctuations(text):\n",
    "    punctuations = '''!()-[]{};:'\",<>./?@#$%^&*_~'''\n",
    "\n",
    "    result = \"\"\n",
    "\n",
    "    for char in text:\n",
    "        if char not in punctuations:\n",
    "            result += char\n",
    "    \n",
    "    return result\n",
    "\n",
    "user_input = input(\"Enter a string: \")\n",
    "cleaned_text = remove_punctuations(user_input)\n",
    "\n",
    "print(\"String without punctuations:\", cleaned_text)\n"
   ]
  },
  {
   "cell_type": "markdown",
   "id": "8e2cb4b4",
   "metadata": {},
   "source": [
    "Task-3:"
   ]
  },
  {
   "cell_type": "code",
   "execution_count": 6,
   "id": "d9dc45c9",
   "metadata": {},
   "outputs": [
    {
     "name": "stdout",
     "output_type": "stream",
     "text": [
      "Sorted sentence: Abdullah I am\n"
     ]
    }
   ],
   "source": [
    "def sort_sentence(sentence):\n",
    "\n",
    "    words = sentence.split()\n",
    "    words.sort()\n",
    "\n",
    "    sorted_sentence = \" \".join(words)   \n",
    "    return sorted_sentence\n",
    "\n",
    "user_input = input(\"Enter a sentence: \")\n",
    "sorted_text = sort_sentence(user_input)\n",
    "\n",
    "print(\"Sorted sentence:\", sorted_text)\n"
   ]
  }
 ],
 "metadata": {
  "kernelspec": {
   "display_name": "base",
   "language": "python",
   "name": "python3"
  },
  "language_info": {
   "codemirror_mode": {
    "name": "ipython",
    "version": 3
   },
   "file_extension": ".py",
   "mimetype": "text/x-python",
   "name": "python",
   "nbconvert_exporter": "python",
   "pygments_lexer": "ipython3",
   "version": "3.12.4"
  }
 },
 "nbformat": 4,
 "nbformat_minor": 5
}
