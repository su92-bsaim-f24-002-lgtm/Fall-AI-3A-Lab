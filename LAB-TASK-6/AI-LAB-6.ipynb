{
 "cells": [
  {
   "cell_type": "markdown",
   "id": "a92d63dd",
   "metadata": {},
   "source": [
    "TASK1:"
   ]
  },
  {
   "cell_type": "code",
   "execution_count": 9,
   "id": "2b8cf2e6",
   "metadata": {},
   "outputs": [
    {
     "name": "stdout",
     "output_type": "stream",
     "text": [
      "BFS Traversal:\n",
      "A,B,C,D,E,F,"
     ]
    }
   ],
   "source": [
    "def bfs(graph, start):\n",
    "    visited = set()          \n",
    "    to_visit = [start]       \n",
    "\n",
    "    while len(to_visit) > 0:   \n",
    "        vertex = to_visit[0]   \n",
    "        to_visit = to_visit[1:]  \n",
    "\n",
    "        if vertex not in visited:\n",
    "            print(vertex, end=\",\")\n",
    "            visited.add(vertex)\n",
    "\n",
    "            for neighbor in graph[vertex]:\n",
    "                if neighbor not in visited:\n",
    "                    to_visit.append(neighbor)\n",
    "\n",
    "\n",
    "graph = {\n",
    "    'A': ['B', 'C'],\n",
    "    'B': ['D', 'E'],\n",
    "    'C': ['F'],\n",
    "    'D': [],\n",
    "    'E': ['F'],\n",
    "    'F': []\n",
    "}\n",
    "\n",
    "print(\"BFS Traversal:\")\n",
    "bfs(graph, 'A')\n"
   ]
  },
  {
   "cell_type": "markdown",
   "id": "21127380",
   "metadata": {},
   "source": [
    "TASK2:"
   ]
  },
  {
   "cell_type": "code",
   "execution_count": 8,
   "id": "872e49a7",
   "metadata": {},
   "outputs": [
    {
     "name": "stdout",
     "output_type": "stream",
     "text": [
      "BFS Traversal:\n",
      "A,B,C,D,E,F,"
     ]
    }
   ],
   "source": [
    "def bfs(graph, start):\n",
    "    visited = set()         \n",
    "    queue = [start]       \n",
    "\n",
    "    while queue:           \n",
    "        vertex = queue.pop(0)  \n",
    "\n",
    "        if vertex not in visited:\n",
    "            print(vertex,end = \",\" )\n",
    "            visited.add(vertex)\n",
    "\n",
    "            for neighbor in graph[vertex]:\n",
    "                if neighbor not in visited:\n",
    "                    queue.append(neighbor)\n",
    "\n",
    "\n",
    "graph = {\n",
    "    'A': ['B', 'C'],\n",
    "    'B': ['D', 'E'],\n",
    "    'C': ['F'],\n",
    "    'D': [],\n",
    "    'E': ['F'],\n",
    "    'F': []\n",
    "}\n",
    "\n",
    "print(\"BFS Traversal:\")\n",
    "bfs(graph, 'A')\n"
   ]
  }
 ],
 "metadata": {
  "kernelspec": {
   "display_name": "base",
   "language": "python",
   "name": "python3"
  },
  "language_info": {
   "codemirror_mode": {
    "name": "ipython",
    "version": 3
   },
   "file_extension": ".py",
   "mimetype": "text/x-python",
   "name": "python",
   "nbconvert_exporter": "python",
   "pygments_lexer": "ipython3",
   "version": "3.12.4"
  }
 },
 "nbformat": 4,
 "nbformat_minor": 5
}
