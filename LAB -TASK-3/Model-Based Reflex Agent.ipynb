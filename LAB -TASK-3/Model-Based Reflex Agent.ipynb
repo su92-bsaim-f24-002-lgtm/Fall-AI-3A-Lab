{
 "cells": [
  {
   "cell_type": "code",
   "execution_count": 1,
   "id": "9a9368df",
   "metadata": {},
   "outputs": [
    {
     "name": "stdout",
     "output_type": "stream",
     "text": [
      "Temp: 18 → Heater ON\n",
      "Temp: 19 → No change, Heater ON\n",
      "Temp: 22 → No change, Heater ON\n",
      "Temp: 26 → Heater OFF\n",
      "Temp: 24 → No change, Heater OFF\n",
      "Temp: 19 → Heater ON\n",
      "Temp: 21 → No change, Heater ON\n",
      "Temp: 27 → Heater OFF\n"
     ]
    }
   ],
   "source": [
    "class ReflexAgent:\n",
    "    def __init__(self):\n",
    "        self.last_action = \"OFF\" \n",
    "\n",
    "    def decide(self, temperature):\n",
    "        if temperature < 20 and self.last_action != \"ON\":\n",
    "            self.last_action = \"ON\"\n",
    "            return \"Heater ON\"\n",
    "        elif temperature > 25 and self.last_action != \"OFF\":\n",
    "            self.last_action = \"OFF\"\n",
    "            return \"Heater OFF\"\n",
    "        else:\n",
    "            return f\"No change, Heater {self.last_action}\"\n",
    "\n",
    "agent = ReflexAgent()\n",
    "temperatures = [18, 19, 22, 26, 24, 19, 21, 27]\n",
    "\n",
    "for t in temperatures:\n",
    "    print(f\"Temp: {t} → {agent.decide(t)}\")\n"
   ]
  }
 ],
 "metadata": {
  "kernelspec": {
   "display_name": "base",
   "language": "python",
   "name": "python3"
  },
  "language_info": {
   "codemirror_mode": {
    "name": "ipython",
    "version": 3
   },
   "file_extension": ".py",
   "mimetype": "text/x-python",
   "name": "python",
   "nbconvert_exporter": "python",
   "pygments_lexer": "ipython3",
   "version": "3.12.4"
  }
 },
 "nbformat": 4,
 "nbformat_minor": 5
}
