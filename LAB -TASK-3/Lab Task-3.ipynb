{
 "cells": [
  {
   "cell_type": "code",
   "execution_count": 7,
   "id": "a7b39380",
   "metadata": {},
   "outputs": [
    {
     "name": "stdout",
     "output_type": "stream",
     "text": [
      "From History,Heater Already On TURN_HEATER_ON\n",
      "Temp: 16°C -> TURN_HEATER_ON\n",
      "From History,Heater Already On TURN_HEATER_ON\n",
      "Temp: 17°C -> TURN_HEATER_ON\n",
      "From History,Heater Already On TURN_HEATER_ON\n",
      "Temp: 19°C -> TURN_HEATER_ON\n",
      "From History,Heater Already On TURN_HEATER_ON\n",
      "Temp: 21°C -> TURN_HEATER_ON\n",
      "From History,Heater Already On TURN_HEATER_OFF\n",
      "Temp: 26°C -> TURN_HEATER_OFF\n",
      "From History,Heater Already On TURN_HEATER_OFF\n",
      "Temp: 23°C -> TURN_HEATER_OFF\n",
      "From History,Heater Already On TURN_HEATER_OFF\n",
      "Temp: 20°C -> TURN_HEATER_OFF\n",
      "From History,Heater Already On TURN_HEATER_ON\n",
      "Temp: 17°C -> TURN_HEATER_ON\n"
     ]
    }
   ],
   "source": [
    "previous_action = None\n",
    "\n",
    "def reflex_agent(temperature):\n",
    "    global previous_action\n",
    "\n",
    "    LOW_THRESHOLD = 18\n",
    "    HIGH_THRESHOLD = 24\n",
    "\n",
    "    if temperature < LOW_THRESHOLD:\n",
    "        action = \"TURN_HEATER_ON\"\n",
    "    elif temperature > HIGH_THRESHOLD:\n",
    "        action = \"TURN_HEATER_OFF\"\n",
    "    else:\n",
    "        action = previous_action \n",
    "\n",
    "    previous_action = action\n",
    "    print(\"From History,Heater Already On\",previous_action)\n",
    "    return action\n",
    "\n",
    "temperatures = [16, 17, 19, 21, 26, 23, 20,17]\n",
    "\n",
    "for temp in temperatures:\n",
    "    print(f\"Temp: {temp}°C -> {reflex_agent(temp)}\")\n",
    "\n"
   ]
  }
 ],
 "metadata": {
  "kernelspec": {
   "display_name": "base",
   "language": "python",
   "name": "python3"
  },
  "language_info": {
   "codemirror_mode": {
    "name": "ipython",
    "version": 3
   },
   "file_extension": ".py",
   "mimetype": "text/x-python",
   "name": "python",
   "nbconvert_exporter": "python",
   "pygments_lexer": "ipython3",
   "version": "3.12.4"
  }
 },
 "nbformat": 4,
 "nbformat_minor": 5
}
