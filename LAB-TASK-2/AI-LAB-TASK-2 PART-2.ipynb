{
 "cells": [
  {
   "cell_type": "code",
   "execution_count": 5,
   "id": "b137971d",
   "metadata": {},
   "outputs": [
    {
     "name": "stdout",
     "output_type": "stream",
     "text": [
      "\n",
      " Average budget for movies: 179187500.0\n",
      "\n",
      " Movies with higher than average budget:\n",
      "Pirates of the Caribbean: On Stranger Tides → 379000000 (Higher by 199812500.0)\n",
      "\n",
      "Total movies above average: 1\n",
      "Avengers: Age of Ultron → 365000000 (Higher by 185812500.0)\n",
      "\n",
      "Total movies above average: 2\n",
      "Avengers: Endgame → 356000000 (Higher by 176812500.0)\n",
      "\n",
      "Total movies above average: 3\n",
      "Incredibles 2 → 200000000 (Higher by 20812500.0)\n",
      "\n",
      "Total movies above average: 4\n"
     ]
    }
   ],
   "source": [
    "movies = [\n",
    "    (\"Eternal Sunshine of the Spotless Mind\", 20000000),\n",
    "    (\"Memento\", 9000000),\n",
    "    (\"Requiem for a Dream\", 4500000),\n",
    "    (\"Pirates of the Caribbean: On Stranger Tides\", 379000000),\n",
    "    (\"Avengers: Age of Ultron\", 365000000),\n",
    "    (\"Avengers: Endgame\", 356000000),\n",
    "    (\"Incredibles 2\", 200000000)\n",
    "]\n",
    "\n",
    "num = int(input(\"How many movies do you want to add? \"))\n",
    "\n",
    "for i in range(num):\n",
    "    name = input(f\"Enter name of movie {i+1}: \")\n",
    "    budget = int(input(f\"Enter budget of {name}: \"))\n",
    "    movies.append((name, budget))\n",
    "\n",
    "total_budget = sum(budget for _, budget in movies)   \n",
    "avg_budget = total_budget / len(movies)          \n",
    "\n",
    "print(\"\\n Average budget for movies:\", avg_budget)\n",
    "\n",
    "print(\"\\n Movies with higher than average budget:\")\n",
    "count = 0\n",
    "for name, budget in movies:\n",
    "    if budget > avg_budget:\n",
    "        difference = budget - avg_budget\n",
    "        print(f\"{name} → {budget} (Higher by {difference})\")\n",
    "        count += 1\n",
    "\n",
    "        print(f\"\\nTotal movies above average: {count}\")\n",
    "\n",
    "\n"
   ]
  }
 ],
 "metadata": {
  "kernelspec": {
   "display_name": "base",
   "language": "python",
   "name": "python3"
  },
  "language_info": {
   "codemirror_mode": {
    "name": "ipython",
    "version": 3
   },
   "file_extension": ".py",
   "mimetype": "text/x-python",
   "name": "python",
   "nbconvert_exporter": "python",
   "pygments_lexer": "ipython3",
   "version": "3.12.4"
  }
 },
 "nbformat": 4,
 "nbformat_minor": 5
}
