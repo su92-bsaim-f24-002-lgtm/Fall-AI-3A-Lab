{
 "cells": [
  {
   "cell_type": "code",
   "execution_count": 4,
   "id": "98f5e175",
   "metadata": {},
   "outputs": [
    {
     "name": "stdout",
     "output_type": "stream",
     "text": [
      "computer -> 2 | user -> Fizz\n",
      "computer -> 7 | user -> Fizz\n"
     ]
    }
   ],
   "source": [
    "def fizzbuzzgame(n: int) -> str:\n",
    "    if n % 15 == 0:\n",
    "        return \"Fizz Buzz\"\n",
    "    elif n % 3 == 0:\n",
    "        return \"Fizz\"\n",
    "    elif n % 5 == 0:\n",
    "        return \"Buzz\"\n",
    "    else:\n",
    "        return str(n)\n",
    "    \n",
    "def prev_and_curr(numbers):\n",
    "    listData = []\n",
    "    for i in range(1, len(numbers)):\n",
    "        t = numbers[i-1] + numbers[i]           \n",
    "        listData.append((numbers[i], fizzbuzzgame(t)))\n",
    "    return listData\n",
    "\n",
    "moves = [1, 2, 7]  \n",
    "for move, say in prev_and_curr(moves):\n",
    "    print(f\"computer -> {move} | user -> {say}\")\n"
   ]
  }
 ],
 "metadata": {
  "kernelspec": {
   "display_name": "base",
   "language": "python",
   "name": "python3"
  },
  "language_info": {
   "codemirror_mode": {
    "name": "ipython",
    "version": 3
   },
   "file_extension": ".py",
   "mimetype": "text/x-python",
   "name": "python",
   "nbconvert_exporter": "python",
   "pygments_lexer": "ipython3",
   "version": "3.12.4"
  }
 },
 "nbformat": 4,
 "nbformat_minor": 5
}
