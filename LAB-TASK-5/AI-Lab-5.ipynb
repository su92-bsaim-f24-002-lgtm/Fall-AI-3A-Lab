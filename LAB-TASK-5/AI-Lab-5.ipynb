{
 "cells": [
  {
   "cell_type": "markdown",
   "id": "5da9c422",
   "metadata": {},
   "source": [
    "Task1:"
   ]
  },
  {
   "cell_type": "code",
   "execution_count": 8,
   "id": "5e142b31",
   "metadata": {},
   "outputs": [
    {
     "name": "stdout",
     "output_type": "stream",
     "text": [
      "DFS using Stack:\n",
      "A B D E F C "
     ]
    }
   ],
   "source": [
    "def dfs_stack(graph, start):\n",
    "    visited = set()      \n",
    "    stack = [start]      \n",
    "\n",
    "    while stack:         \n",
    "        vertex = stack.pop()  \n",
    "        if vertex not in visited:\n",
    "            print(vertex, end=\" \")  \n",
    "            visited.add(vertex)\n",
    "\n",
    "            for neighbor in reversed(graph[vertex]):\n",
    "                if neighbor not in visited:\n",
    "                    stack.append(neighbor)\n",
    "\n",
    "\n",
    "graph = {\n",
    "    'A': ['B', 'C'],\n",
    "    'B': ['D', 'E'],\n",
    "    'C': ['F'],\n",
    "    'D': [],\n",
    "    'E': ['F'],\n",
    "    'F': []\n",
    "}\n",
    "\n",
    "print(\"DFS using Stack:\")\n",
    "dfs_stack(graph, 'A')\n"
   ]
  },
  {
   "cell_type": "markdown",
   "id": "215fe07c",
   "metadata": {},
   "source": [
    "Task2:"
   ]
  },
  {
   "cell_type": "code",
   "execution_count": 5,
   "id": "9b55c04b",
   "metadata": {},
   "outputs": [
    {
     "name": "stdout",
     "output_type": "stream",
     "text": [
      "Preorder Traversal:\n",
      "A B D E C F \n",
      "Inorder Traversal:\n",
      "D B E A C F \n",
      "Postorder Traversal:\n",
      "D E B F C A "
     ]
    }
   ],
   "source": [
    "tree = {\n",
    "    'A': ['B', 'C'],\n",
    "    'B': ['D', 'E'],\n",
    "    'C': [None, 'F'],\n",
    "    'D': [None, None],\n",
    "    'E': [None, None],\n",
    "    'F': [None,None ]\n",
    "}\n",
    "\n",
    "def preorder(tree, root):\n",
    "    if root is None:\n",
    "        return\n",
    "    print(root, end=\" \")\n",
    "    preorder(tree, tree[root][0])   \n",
    "    preorder(tree, tree[root][1])   \n",
    "\n",
    "def inorder(tree, root):\n",
    "    if root is None:\n",
    "        return\n",
    "    inorder(tree, tree[root][0])    \n",
    "    print(root, end=\" \")\n",
    "    inorder(tree, tree[root][1])   \n",
    "\n",
    "def postorder(tree, root):\n",
    "    if root is None:\n",
    "        return\n",
    "    postorder(tree, tree[root][0])  \n",
    "    postorder(tree, tree[root][1]) \n",
    "    print(root, end=\" \")\n",
    "\n",
    "print(\"Preorder Traversal:\")\n",
    "preorder(tree, 'A')\n",
    "print(\"\\nInorder Traversal:\")\n",
    "inorder(tree, 'A')\n",
    "print(\"\\nPostorder Traversal:\")\n",
    "postorder(tree, 'A')\n"
   ]
  }
 ],
 "metadata": {
  "kernelspec": {
   "display_name": "base",
   "language": "python",
   "name": "python3"
  },
  "language_info": {
   "codemirror_mode": {
    "name": "ipython",
    "version": 3
   },
   "file_extension": ".py",
   "mimetype": "text/x-python",
   "name": "python",
   "nbconvert_exporter": "python",
   "pygments_lexer": "ipython3",
   "version": "3.12.4"
  }
 },
 "nbformat": 4,
 "nbformat_minor": 5
}
